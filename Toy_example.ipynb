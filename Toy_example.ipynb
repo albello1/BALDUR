{
  "nbformat": 4,
  "nbformat_minor": 0,
  "metadata": {
    "colab": {
      "provenance": []
    },
    "kernelspec": {
      "name": "python3",
      "display_name": "Python 3"
    },
    "language_info": {
      "name": "python"
    }
  },
  "cells": [
    {
      "cell_type": "markdown",
      "source": [
        "In this notebook we will present how to launch BALDUR in a toy example.\n",
        "\n"
      ],
      "metadata": {
        "id": "5-4J9NEgs2Ev"
      }
    },
    {
      "cell_type": "markdown",
      "source": [
        "**Synthetic data generation**"
      ],
      "metadata": {
        "id": "tuUfUeWyvU2D"
      }
    },
    {
      "cell_type": "markdown",
      "source": [
        "First, as the model is intended to work in multimodal datasets, and distinguish which modalities are trully relevant, we will generate a multimodal binary classifcation dataset with 3 views, only one will be related with the targets."
      ],
      "metadata": {
        "id": "YeoToBPctM-O"
      }
    },
    {
      "cell_type": "code",
      "source": [
        "import numpy as np\n",
        "import matplotlib.pyplot as plt\n",
        "import math\n",
        "from sklearn.datasets import make_classification\n",
        "\n",
        "\n",
        "\n",
        "N = 1000 #Num of samples\n",
        "D = 200 #Num of features\n",
        "\n",
        "#Relevant view\n",
        "X, y = make_classification(\n",
        "        n_samples=N,\n",
        "        n_features=D,\n",
        "        n_classes=2,\n",
        "        # n_informative=10,\n",
        "        random_state=999\n",
        "    )\n",
        "\n",
        "X1 = X[:,:30]\n",
        "X2 = X[:,30:100]\n",
        "X3 = X[:,100:]\n",
        "\n",
        "# #Random views\n",
        "# X2 = np.random.rand(1000, 250)\n",
        "\n",
        "# # Crear una matriz de 1000x3000\n",
        "# X3 = np.random.rand(1000, 300)"
      ],
      "metadata": {
        "id": "19Fqb2Wit9Q9"
      },
      "execution_count": 1,
      "outputs": []
    },
    {
      "cell_type": "markdown",
      "source": [
        "Once we generated the database, we divide the data into train and test and standarize it."
      ],
      "metadata": {
        "id": "kWFDRY-iufyt"
      }
    },
    {
      "cell_type": "code",
      "source": [
        "from sklearn.model_selection import train_test_split as tts\n",
        "from sklearn.preprocessing import StandardScaler\n",
        "\n",
        "X1_tr, X1_tst, Y_tr, Y_tst = tts(X1, y, test_size = 0.25, random_state = 31)\n",
        "X2_tr, X2_tst, Y_tr, Y_tst = tts(X2, y, test_size = 0.25, random_state = 31)\n",
        "X3_tr, X3_tst, Y_tr, Y_tst = tts(X3, y, test_size = 0.25, random_state = 31)\n",
        "\n",
        "\n",
        "\n",
        "scaler = StandardScaler()\n",
        "X1_tr = scaler.fit_transform(X1_tr)\n",
        "X1_tst = scaler.transform(X1_tst)\n",
        "\n",
        "scaler = StandardScaler()\n",
        "X2_tr = scaler.fit_transform(X2_tr)\n",
        "X2_tst = scaler.transform(X2_tst)\n",
        "\n",
        "scaler = StandardScaler()\n",
        "X3_tr = scaler.fit_transform(X3_tr)\n",
        "X3_tst = scaler.transform(X3_tst)"
      ],
      "metadata": {
        "id": "cZ47JQJMu0LL"
      },
      "execution_count": 2,
      "outputs": []
    },
    {
      "cell_type": "markdown",
      "source": [
        "**Training the model**"
      ],
      "metadata": {
        "id": "28BYij6OvYqb"
      }
    },
    {
      "cell_type": "markdown",
      "source": [
        "We import and define the model settings"
      ],
      "metadata": {
        "id": "06XBUtBxvcji"
      }
    },
    {
      "cell_type": "code",
      "source": [
        "import BALDUR_EAAI\n",
        "\n",
        "#Concatenate the views into a list\n",
        "X_tr = [X1_tr, X2_tr, X3_tr]\n",
        "X_tst = [X1_tst, X2_tst, X3_tst]\n",
        "\n",
        "\n",
        "#Define if the view is wide or not (0 not, 1 wide)\n",
        "modalidades = [0,0,0]\n",
        "\n",
        "Y_tr = Y_tr[:, np.newaxis]\n",
        "Y_tst = Y_tst[:, np.newaxis]\n",
        "\n",
        "\n",
        "\n",
        "\n",
        "########################\n",
        "########################\n",
        "\n",
        "#Define the model settings:\n",
        "#- No prunning in that case as all the features are relevant\n",
        "#- Kc = 1, as the problem is binary (maximum of a single latent dimension)\n",
        "\n",
        "#Fit the model\n",
        "\n",
        "myModel = BALDUR_EAAI.LR_ARD()\n",
        "myModel.fit(X_tr, Y_tr, X_tst, Y_tst, states = modalidades, prune = 0, prune_feat = 0, Kc =1, maxit = 50)"
      ],
      "metadata": {
        "colab": {
          "base_uri": "https://localhost:8080/"
        },
        "id": "1ZOSpZo_vhMy",
        "outputId": "6c39d736-2c33-4929-eab9-42a08e7d85e5"
      },
      "execution_count": 3,
      "outputs": [
        {
          "output_type": "stream",
          "name": "stdout",
          "text": [
            "Iteration:  0\n",
            "Accuracy:  0.364\n",
            "Balanced Accuracy:  0.3654179228943486\n",
            "--------------\n",
            "Iteration:  1\n",
            "Accuracy:  0.696\n",
            "Balanced Accuracy:  0.696300563236047\n",
            "--------------\n",
            "Iteration:  2\n",
            "Accuracy:  0.796\n",
            "Balanced Accuracy:  0.7966519428973817\n",
            "--------------\n",
            "Iteration:  3\n",
            "Accuracy:  0.852\n",
            "Balanced Accuracy:  0.852\n",
            "--------------\n",
            "Iteration:  4\n",
            "Accuracy:  0.872\n",
            "Balanced Accuracy:  0.8751926040061633\n",
            "--------------\n",
            "Iteration:  5\n",
            "Accuracy:  0.88\n",
            "Balanced Accuracy:  0.882051282051282\n",
            "--------------\n",
            "Iteration:  6\n",
            "Accuracy:  0.88\n",
            "Balanced Accuracy:  0.882051282051282\n",
            "--------------\n",
            "Iteration:  7\n",
            "Accuracy:  0.88\n",
            "Balanced Accuracy:  0.882051282051282\n",
            "--------------\n",
            "Iteration:  8\n",
            "Accuracy:  0.88\n",
            "Balanced Accuracy:  0.882051282051282\n",
            "--------------\n",
            "Iteration:  9\n",
            "Accuracy:  0.88\n",
            "Balanced Accuracy:  0.882051282051282\n",
            "--------------\n",
            "Iteration:  10\n",
            "Accuracy:  0.88\n",
            "Balanced Accuracy:  0.882051282051282\n",
            "--------------\n",
            "Iteration:  11\n",
            "Accuracy:  0.876\n",
            "Balanced Accuracy:  0.878600295079864\n",
            "--------------\n",
            "Iteration:  12\n",
            "Accuracy:  0.876\n",
            "Balanced Accuracy:  0.878600295079864\n",
            "--------------\n",
            "Iteration:  13\n",
            "Accuracy:  0.876\n",
            "Balanced Accuracy:  0.878600295079864\n",
            "--------------\n",
            "Iteration:  14\n",
            "Accuracy:  0.876\n",
            "Balanced Accuracy:  0.878600295079864\n",
            "--------------\n",
            "Iteration:  15\n",
            "Accuracy:  0.876\n",
            "Balanced Accuracy:  0.878600295079864\n",
            "--------------\n",
            "Iteration:  16\n",
            "Accuracy:  0.876\n",
            "Balanced Accuracy:  0.878600295079864\n",
            "--------------\n",
            "Iteration:  17\n",
            "Accuracy:  0.876\n",
            "Balanced Accuracy:  0.878600295079864\n",
            "--------------\n",
            "Iteration:  18\n",
            "Accuracy:  0.876\n",
            "Balanced Accuracy:  0.878600295079864\n",
            "--------------\n",
            "Iteration:  19\n",
            "Accuracy:  0.876\n",
            "Balanced Accuracy:  0.878600295079864\n",
            "--------------\n",
            "Iteration:  20\n",
            "Accuracy:  0.876\n",
            "Balanced Accuracy:  0.878600295079864\n",
            "--------------\n",
            "Iteration:  21\n",
            "Accuracy:  0.876\n",
            "Balanced Accuracy:  0.878600295079864\n",
            "--------------\n",
            "Iteration:  22\n",
            "Accuracy:  0.876\n",
            "Balanced Accuracy:  0.878600295079864\n",
            "--------------\n",
            "Iteration:  23\n",
            "Accuracy:  0.876\n",
            "Balanced Accuracy:  0.878600295079864\n",
            "--------------\n",
            "Iteration:  24\n",
            "Accuracy:  0.876\n",
            "Balanced Accuracy:  0.878600295079864\n",
            "--------------\n",
            "Iteration:  25\n",
            "Accuracy:  0.876\n",
            "Balanced Accuracy:  0.878600295079864\n",
            "--------------\n",
            "Iteration:  26\n",
            "Accuracy:  0.876\n",
            "Balanced Accuracy:  0.878600295079864\n",
            "--------------\n",
            "Iteration:  27\n",
            "Accuracy:  0.876\n",
            "Balanced Accuracy:  0.878600295079864\n",
            "--------------\n",
            "Iteration:  28\n",
            "Accuracy:  0.876\n",
            "Balanced Accuracy:  0.878600295079864\n",
            "--------------\n",
            "Iteration:  29\n",
            "Accuracy:  0.872\n",
            "Balanced Accuracy:  0.8740384615384615\n",
            "--------------\n",
            "Iteration:  30\n",
            "Accuracy:  0.872\n",
            "Balanced Accuracy:  0.8740384615384615\n",
            "--------------\n",
            "Iteration:  31\n",
            "Accuracy:  0.872\n",
            "Balanced Accuracy:  0.8740384615384615\n",
            "--------------\n",
            "Iteration:  32\n",
            "Accuracy:  0.872\n",
            "Balanced Accuracy:  0.8740384615384615\n",
            "--------------\n",
            "Iteration:  33\n",
            "Accuracy:  0.872\n",
            "Balanced Accuracy:  0.8740384615384615\n",
            "--------------\n",
            "Iteration:  34\n",
            "Accuracy:  0.868\n",
            "Balanced Accuracy:  0.8695303991287078\n",
            "--------------\n",
            "Iteration:  35\n",
            "Accuracy:  0.868\n",
            "Balanced Accuracy:  0.8695303991287078\n",
            "--------------\n",
            "Iteration:  36\n",
            "Accuracy:  0.868\n",
            "Balanced Accuracy:  0.8695303991287078\n",
            "--------------\n",
            "Iteration:  37\n",
            "Accuracy:  0.868\n",
            "Balanced Accuracy:  0.8695303991287078\n",
            "--------------\n",
            "Iteration:  38\n",
            "Accuracy:  0.868\n",
            "Balanced Accuracy:  0.8695303991287078\n",
            "--------------\n",
            "Iteration:  39\n",
            "Accuracy:  0.868\n",
            "Balanced Accuracy:  0.8695303991287078\n",
            "--------------\n",
            "Iteration:  40\n",
            "Accuracy:  0.868\n",
            "Balanced Accuracy:  0.8695303991287078\n",
            "--------------\n",
            "Iteration:  41\n",
            "Accuracy:  0.868\n",
            "Balanced Accuracy:  0.8695303991287078\n",
            "--------------\n",
            "Iteration:  42\n",
            "Accuracy:  0.868\n",
            "Balanced Accuracy:  0.8695303991287078\n",
            "--------------\n",
            "Iteration:  43\n",
            "Accuracy:  0.868\n",
            "Balanced Accuracy:  0.8695303991287078\n",
            "--------------\n",
            "Iteration:  44\n",
            "Accuracy:  0.868\n",
            "Balanced Accuracy:  0.8695303991287078\n",
            "--------------\n",
            "Iteration:  45\n",
            "Accuracy:  0.868\n",
            "Balanced Accuracy:  0.8695303991287078\n",
            "--------------\n",
            "Iteration:  46\n",
            "Accuracy:  0.868\n",
            "Balanced Accuracy:  0.8695303991287078\n",
            "--------------\n",
            "Iteration:  47\n",
            "Accuracy:  0.868\n",
            "Balanced Accuracy:  0.8695303991287078\n",
            "--------------\n",
            "Iteration:  48\n",
            "Accuracy:  0.868\n",
            "Balanced Accuracy:  0.8695303991287078\n",
            "--------------\n",
            "Iteration:  49\n",
            "Accuracy:  0.868\n",
            "Balanced Accuracy:  0.8695303991287078\n",
            "--------------\n",
            "\n"
          ]
        }
      ]
    },
    {
      "cell_type": "markdown",
      "source": [
        "Final results:"
      ],
      "metadata": {
        "id": "8UmeZIHR5udl"
      }
    },
    {
      "cell_type": "code",
      "source": [
        "print('Balanced accuracy: ', myModel.bal_accs[-1])"
      ],
      "metadata": {
        "colab": {
          "base_uri": "https://localhost:8080/"
        },
        "id": "nn9YsH5k5xCd",
        "outputId": "8370c295-3b81-4c6b-89f6-594d88f745e5"
      },
      "execution_count": 4,
      "outputs": [
        {
          "output_type": "stream",
          "name": "stdout",
          "text": [
            "Balanced accuracy:  0.8695303991287078\n"
          ]
        }
      ]
    },
    {
      "cell_type": "markdown",
      "source": [
        "Plot balanced accuracy evolution:"
      ],
      "metadata": {
        "id": "STEmObP-6Aj0"
      }
    },
    {
      "cell_type": "code",
      "source": [
        "plt.plot(myModel.bal_accs)\n",
        "plt.title('Performance')\n",
        "plt.ylabel('Test accuracy')\n",
        "plt.xlabel('Iterations')\n",
        "plt.show()"
      ],
      "metadata": {
        "colab": {
          "base_uri": "https://localhost:8080/",
          "height": 472
        },
        "id": "iyzDp6K56Dck",
        "outputId": "eca0f0a1-2507-48f2-e1a6-807cb95ae268"
      },
      "execution_count": 5,
      "outputs": [
        {
          "output_type": "display_data",
          "data": {
            "text/plain": [
              "<Figure size 640x480 with 1 Axes>"
            ],
            "image/png": "[encoded data removed]"
          },
          "metadata": {}
        }
      ]
    }
  ]
}